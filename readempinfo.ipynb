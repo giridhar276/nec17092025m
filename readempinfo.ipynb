{
 "cells": [
  {
   "cell_type": "code",
   "execution_count": null,
   "id": "580b14b6",
   "metadata": {},
   "outputs": [],
   "source": [
    "import pandas as pd"
   ]
  },
  {
   "cell_type": "code",
   "execution_count": null,
   "id": "1dde4ac4",
   "metadata": {},
   "outputs": [],
   "source": [
    "df = pd.read_csv(\"empinfo.csv\")"
   ]
  },
  {
   "cell_type": "code",
   "execution_count": null,
   "id": "9a275ac8",
   "metadata": {},
   "outputs": [],
   "source": [
    "df.head(3)"
   ]
  },
  {
   "cell_type": "code",
   "execution_count": null,
   "id": "7fbca26a",
   "metadata": {},
   "outputs": [],
   "source": [
    "#first 10 rows\n",
    "df.head(10)"
   ]
  },
  {
   "cell_type": "code",
   "execution_count": null,
   "id": "de137f41",
   "metadata": {},
   "outputs": [],
   "source": [
    "# last 10 rows\n",
    "df.tail(10)"
   ]
  },
  {
   "cell_type": "code",
   "execution_count": null,
   "id": "7fafd6b5",
   "metadata": {},
   "outputs": [],
   "source": [
    "output = df.head(10)\n",
    "output.to_csv(\"first10records.csv\",index=False)"
   ]
  },
  {
   "cell_type": "code",
   "execution_count": null,
   "id": "ad7f5c1f",
   "metadata": {},
   "outputs": [],
   "source": [
    "#!pip install openpyxl"
   ]
  },
  {
   "cell_type": "code",
   "execution_count": null,
   "id": "385510f0",
   "metadata": {},
   "outputs": [],
   "source": [
    "output.to_excel(\"first10.xlsx\",index=False)"
   ]
  },
  {
   "cell_type": "code",
   "execution_count": null,
   "id": "c2a64319",
   "metadata": {},
   "outputs": [],
   "source": [
    "#df.iloc[rows,columns]\n",
    "df.iloc[10:15]  # if are not mentioned ... all columns wil be displayed"
   ]
  },
  {
   "cell_type": "code",
   "execution_count": null,
   "id": "f9eb9094",
   "metadata": {},
   "outputs": [],
   "source": [
    "#df.iloc[rows ,columns]\n",
    "df.iloc[10:15 , 0:3]"
   ]
  },
  {
   "cell_type": "code",
   "execution_count": null,
   "id": "6794e559",
   "metadata": {},
   "outputs": [],
   "source": [
    "df.loc[0:3,\"age\":\"education\"]"
   ]
  },
  {
   "cell_type": "code",
   "execution_count": null,
   "id": "cd4205fe",
   "metadata": {},
   "outputs": [],
   "source": [
    "columns = [\"age\",\"workclass\",\"education\"] \n",
    "df.loc[0:3, columns ]"
   ]
  },
  {
   "cell_type": "code",
   "execution_count": null,
   "id": "e2028f7f",
   "metadata": {},
   "outputs": [],
   "source": [
    "# display rows,columns\n",
    "df.shape"
   ]
  },
  {
   "cell_type": "code",
   "execution_count": null,
   "id": "897e3400",
   "metadata": {},
   "outputs": [],
   "source": [
    "# display information of datatypes\n",
    "df.info()"
   ]
  },
  {
   "cell_type": "code",
   "execution_count": null,
   "id": "fca89a63",
   "metadata": {},
   "outputs": [],
   "source": [
    "# display datatypes\n",
    "df.dtypes"
   ]
  },
  {
   "cell_type": "code",
   "execution_count": null,
   "id": "fff3669b",
   "metadata": {},
   "outputs": [],
   "source": [
    "# get the summary\n",
    "df.describe()"
   ]
  },
  {
   "cell_type": "code",
   "execution_count": null,
   "id": "f3fae104",
   "metadata": {},
   "outputs": [],
   "source": [
    "df"
   ]
  },
  {
   "cell_type": "code",
   "execution_count": null,
   "id": "621291b3",
   "metadata": {},
   "outputs": [],
   "source": [
    "df.sample(n = 10)"
   ]
  },
  {
   "cell_type": "code",
   "execution_count": null,
   "id": "0cf2df16",
   "metadata": {},
   "outputs": [],
   "source": [
    "# select column1 from table1\n",
    "# displays single column\n",
    "df['workclass']"
   ]
  },
  {
   "cell_type": "code",
   "execution_count": null,
   "id": "f387c294",
   "metadata": {},
   "outputs": [],
   "source": [
    "# select col1,col2 from table\n",
    "# display multiple columns\n",
    "df[['workclass','age','education']]"
   ]
  },
  {
   "cell_type": "code",
   "execution_count": null,
   "id": "9e3e3508",
   "metadata": {},
   "outputs": [],
   "source": [
    "# select * from table where column1 =''\n",
    "condition = df['education'] == ' Bachelors'\n",
    "df[condition]"
   ]
  },
  {
   "cell_type": "code",
   "execution_count": null,
   "id": "95fa230e",
   "metadata": {},
   "outputs": [],
   "source": [
    "cond2 = df['age'] == 30\n",
    "df[cond2]"
   ]
  },
  {
   "cell_type": "code",
   "execution_count": null,
   "id": "fa9e8dfe",
   "metadata": {},
   "outputs": [],
   "source": [
    "# with 2 conditions\n",
    "cond1 = df['education'] == ' Bachelors'\n",
    "cond2 = df['age'] == 30\n",
    "\n",
    "df[ cond1 & cond2]"
   ]
  },
  {
   "cell_type": "code",
   "execution_count": null,
   "id": "a48da3bc",
   "metadata": {},
   "outputs": [],
   "source": [
    "cond1 = df['education'] == ' Bachelors'\n",
    "cond2 = df['education'] == ' Masters'\n",
    "\n",
    "df[ cond1 | cond2]"
   ]
  },
  {
   "cell_type": "code",
   "execution_count": null,
   "id": "f9da4875",
   "metadata": {},
   "outputs": [],
   "source": [
    "#df[(cond1) & (cond2)]\n",
    "df[(df['education'] == ' Bachelors') & (df['age'] == 30)]"
   ]
  },
  {
   "cell_type": "code",
   "execution_count": null,
   "id": "142688e0",
   "metadata": {},
   "outputs": [],
   "source": [
    "cond1 = df['education'].str.strip() == 'Bachelors'\n",
    "df[cond1]"
   ]
  },
  {
   "cell_type": "code",
   "execution_count": null,
   "id": "bab180ae",
   "metadata": {},
   "outputs": [],
   "source": [
    "# display all unique work classes\n",
    "df['workclass'].unique()"
   ]
  },
  {
   "cell_type": "code",
   "execution_count": null,
   "id": "946472a8",
   "metadata": {},
   "outputs": [],
   "source": [
    "# display no. of unique work classes\n",
    "df['workclass'].nunique()"
   ]
  },
  {
   "cell_type": "code",
   "execution_count": null,
   "id": "42894c9e",
   "metadata": {},
   "outputs": [],
   "source": [
    "# display all distinct workclasses and get the count of it\n",
    "df['workclass'].value_counts()"
   ]
  },
  {
   "cell_type": "code",
   "execution_count": null,
   "id": "29c4470b",
   "metadata": {},
   "outputs": [],
   "source": [
    "# sorting based on age in ascending order\n",
    "df.sort_values('age')"
   ]
  },
  {
   "cell_type": "code",
   "execution_count": null,
   "id": "c22f2a35",
   "metadata": {},
   "outputs": [],
   "source": [
    "# descending order\n",
    "df.sort_values('age', ascending=False)"
   ]
  },
  {
   "cell_type": "code",
   "execution_count": null,
   "id": "ae943f02",
   "metadata": {},
   "outputs": [],
   "source": [
    "#  remove duplicates\n",
    "df.drop_duplicates()"
   ]
  },
  {
   "cell_type": "code",
   "execution_count": null,
   "id": "3f92c41b",
   "metadata": {},
   "outputs": [],
   "source": [
    "# drop columns\n",
    "df.drop(columns = ['age','education','workclass'] )"
   ]
  },
  {
   "cell_type": "code",
   "execution_count": null,
   "id": "4bfb4cd0",
   "metadata": {},
   "outputs": [],
   "source": [
    "# handling missing values\n",
    "df.dropna()   # droping null values"
   ]
  },
  {
   "cell_type": "code",
   "execution_count": null,
   "id": "18e53b30",
   "metadata": {},
   "outputs": [],
   "source": [
    "df.fillna(0)    # fill null values with 0"
   ]
  },
  {
   "cell_type": "code",
   "execution_count": null,
   "id": "7d28f0ee",
   "metadata": {},
   "outputs": [],
   "source": []
  }
 ],
 "metadata": {
  "kernelspec": {
   "display_name": "Python 3",
   "language": "python",
   "name": "python3"
  },
  "language_info": {
   "codemirror_mode": {
    "name": "ipython",
    "version": 3
   },
   "file_extension": ".py",
   "mimetype": "text/x-python",
   "name": "python",
   "nbconvert_exporter": "python",
   "pygments_lexer": "ipython3",
   "version": "3.13.7"
  }
 },
 "nbformat": 4,
 "nbformat_minor": 5
}
